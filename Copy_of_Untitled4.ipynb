{
  "nbformat": 4,
  "nbformat_minor": 0,
  "metadata": {
    "colab": {
      "name": "Copy of Untitled4.ipynb",
      "provenance": [],
      "collapsed_sections": [],
      "authorship_tag": "ABX9TyMBU2vEnvTWw2u4gmqj1B/k",
      "include_colab_link": true
    },
    "kernelspec": {
      "name": "python3",
      "display_name": "Python 3"
    }
  },
  "cells": [
    {
      "cell_type": "markdown",
      "metadata": {
        "id": "view-in-github",
        "colab_type": "text"
      },
      "source": [
        "<a href=\"https://colab.research.google.com/github/pragnasree14/Day-2-Assignment-DSA-letsUpgrade-/blob/main/Copy_of_Untitled4.ipynb\" target=\"_parent\"><img src=\"https://colab.research.google.com/assets/colab-badge.svg\" alt=\"Open In Colab\"/></a>"
      ]
    },
    {
      "cell_type": "code",
      "metadata": {
        "colab": {
          "base_uri": "https://localhost:8080/"
        },
        "id": "WBauzfXL4Vl2",
        "outputId": "75c4c139-dd63-4ab0-deb1-aa88ee0184b1"
      },
      "source": [
        "for i in range(1,6):\r\n",
        "  print (\" \" *(6-i-1) +str(i) *i)"
      ],
      "execution_count": null,
      "outputs": [
        {
          "output_type": "stream",
          "text": [
            "    1\n",
            "   22\n",
            "  333\n",
            " 4444\n",
            "55555\n"
          ],
          "name": "stdout"
        }
      ]
    },
    {
      "cell_type": "code",
      "metadata": {
        "colab": {
          "base_uri": "https://localhost:8080/"
        },
        "id": "RZQrtBLx7CgI",
        "outputId": "e5edfccd-1ed4-44f1-9210-57b6684b19d7"
      },
      "source": [
        "list=[12, 3, 55, 6, 144]\r\n",
        "for num in list:\r\n",
        "  if num%2 == 0:\r\n",
        "     print(num,end=\" \")"
      ],
      "execution_count": null,
      "outputs": [
        {
          "output_type": "stream",
          "text": [
            "12 6 144 "
          ],
          "name": "stdout"
        }
      ]
    }
  ]
}